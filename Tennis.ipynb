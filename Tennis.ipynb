{
 "cells": [
  {
   "cell_type": "markdown",
   "metadata": {},
   "source": [
    "# Continuous Control\n",
    "\n",
    "---\n",
    "\n",
    "In this notebook, you will learn how to use the Unity ML-Agents environment for the second project of the [Deep Reinforcement Learning Nanodegree](https://www.udacity.com/course/deep-reinforcement-learning-nanodegree--nd893) program.\n",
    "\n",
    "### 1. Start the Environment\n",
    "\n",
    "We begin by importing the necessary packages.  If the code cell below returns an error, please revisit the project instructions to double-check that you have installed [Unity ML-Agents](https://github.com/Unity-Technologies/ml-agents/blob/master/docs/Installation.md) and [NumPy](http://www.numpy.org/)."
   ]
  },
  {
   "cell_type": "code",
   "execution_count": null,
   "metadata": {
    "collapsed": true
   },
   "outputs": [],
   "source": [
    "# when running in Udacity workspace\n",
    "# !pip -q install ./python"
   ]
  },
  {
   "cell_type": "code",
   "execution_count": 1,
   "metadata": {
    "collapsed": false
   },
   "outputs": [],
   "source": [
    "from maddpg_agent import Agent\n",
    "from collections import deque\n",
    "import matplotlib.pyplot as plt\n",
    "import numpy as np\n",
    "import random\n",
    "import time\n",
    "import torch\n",
    "from unityagents import UnityEnvironment\n",
    "\n",
    "%matplotlib inline"
   ]
  },
  {
   "cell_type": "markdown",
   "metadata": {},
   "source": [
    "Next, we will start the environment!  **_Before running the code cell below_**, change the `file_name` parameter to match the location of the Unity environment that you downloaded.\n",
    "\n",
    "- **Mac**: `\"path/to/Reacher.app\"`\n",
    "- **Windows** (x86): `\"path/to/Reacher_Windows_x86/Reacher.exe\"`\n",
    "- **Windows** (x86_64): `\"path/to/Reacher_Windows_x86_64/Reacher.exe\"`\n",
    "- **Linux** (x86): `\"path/to/Reacher_Linux/Reacher.x86\"`\n",
    "- **Linux** (x86_64): `\"path/to/Reacher_Linux/Reacher.x86_64\"`\n",
    "- **Linux** (x86, headless): `\"path/to/Reacher_Linux_NoVis/Reacher.x86\"`\n",
    "- **Linux** (x86_64, headless): `\"path/to/Reacher_Linux_NoVis/Reacher.x86_64\"`\n",
    "\n",
    "For instance, if you are using a Mac, then you downloaded `Reacher.app`.  If this file is in the same folder as the notebook, then the line below should appear as follows:\n",
    "```\n",
    "env = UnityEnvironment(file_name=\"Reacher.app\")\n",
    "```"
   ]
  },
  {
   "cell_type": "code",
   "execution_count": 2,
   "metadata": {
    "collapsed": false
   },
   "outputs": [
    {
     "name": "stderr",
     "output_type": "stream",
     "text": [
      "INFO:unityagents:\n",
      "'Academy' started successfully!\n",
      "Unity Academy name: Academy\n",
      "        Number of Brains: 1\n",
      "        Number of External Brains : 1\n",
      "        Lesson number : 0\n",
      "        Reset Parameters :\n",
      "\t\t\n",
      "Unity brain name: TennisBrain\n",
      "        Number of Visual Observations (per agent): 0\n",
      "        Vector Observation space type: continuous\n",
      "        Vector Observation space size (per agent): 8\n",
      "        Number of stacked Vector Observation: 3\n",
      "        Vector Action space type: continuous\n",
      "        Vector Action space size (per agent): 2\n",
      "        Vector Action descriptions: , \n"
     ]
    }
   ],
   "source": [
    "## when running locally\n",
    "env = UnityEnvironment(file_name='Tennis.app')\n"
   ]
  },
  {
   "cell_type": "markdown",
   "metadata": {},
   "source": [
    "Environments contain **_brains_** which are responsible for deciding the actions of their associated agents. Here we check for the first brain available, and set it as the default brain we will be controlling from Python."
   ]
  },
  {
   "cell_type": "code",
   "execution_count": 3,
   "metadata": {
    "collapsed": false
   },
   "outputs": [
    {
     "name": "stdout",
     "output_type": "stream",
     "text": [
      "Using brain TennisBrain\n"
     ]
    }
   ],
   "source": [
    "# get the default brain\n",
    "brain_name = env.brain_names[0]\n",
    "brain = env.brains[brain_name]\n",
    "print(\"Using brain {}\".format(brain_name))"
   ]
  },
  {
   "cell_type": "markdown",
   "metadata": {},
   "source": [
    "### 2. Examine the State and Action Spaces\n",
    "\n",
    "In this environment, two agents control rackets to bounce a ball over a net. If an agent hits the ball over the net, it receives a reward of +0.1.  If an agent lets a ball hit the ground or hits the ball out of bounds, it receives a reward of -0.01.  Thus, the goal of each agent is to keep the ball in play.\n",
    "\n",
    "The observation space consists of 8 variables corresponding to the position and velocity of the ball and racket. Two continuous actions are available, corresponding to movement toward (or away from) the net, and jumping. \n",
    "\n",
    "Run the code cell below to print some information about the environment."
   ]
  },
  {
   "cell_type": "code",
   "execution_count": 4,
   "metadata": {
    "collapsed": false
   },
   "outputs": [
    {
     "name": "stdout",
     "output_type": "stream",
     "text": [
      "Number of agents: 2\n",
      "Size of each action: 2\n",
      "There are 2 agents. Each observes a state with length: 24\n",
      "The state for the first agent looks like: [ 0.          0.          0.          0.          0.          0.\n",
      "  0.          0.          0.          0.          0.          0.\n",
      "  0.          0.          0.          0.         -6.65278625 -1.5\n",
      " -0.          0.          6.83172083  6.         -0.          0.        ]\n",
      "The state for the second agent looks like: [ 0.          0.          0.          0.          0.          0.\n",
      "  0.          0.          0.          0.          0.          0.\n",
      "  0.          0.          0.          0.         -6.4669857  -1.5\n",
      "  0.          0.         -6.83172083  6.          0.          0.        ]\n"
     ]
    }
   ],
   "source": [
    "# reset the environment\n",
    "env_info = env.reset(train_mode=True)[brain_name]\n",
    "\n",
    "# number of agents\n",
    "num_agents = len(env_info.agents)\n",
    "print('Number of agents:', num_agents)\n",
    "\n",
    "# size of each action\n",
    "action_size = brain.vector_action_space_size\n",
    "print('Size of each action:', action_size)\n",
    "\n",
    "# examine the state space \n",
    "states = env_info.vector_observations\n",
    "state_size = states.shape[1]\n",
    "print('There are {} agents. Each observes a state with length: {}'.format(states.shape[0], state_size))\n",
    "print('The state for the first agent looks like:', states[0])\n",
    "print('The state for the second agent looks like:', states[1])"
   ]
  },
  {
   "cell_type": "code",
   "execution_count": 5,
   "metadata": {
    "collapsed": false,
    "scrolled": true
   },
   "outputs": [
    {
     "name": "stdout",
     "output_type": "stream",
     "text": [
      "The reshaped state vector for the first agent looks like:\n",
      "racket x pos      0.0 0.0 -6.6527862548828125\n",
      "racket y pos      0.0 0.0 -1.5\n",
      "racket x velocity 0.0 0.0 -0.0\n",
      "racket y velocity 0.0 0.0 0.0\n",
      "ball   x pos      0.0 0.0 6.83172082901001\n",
      "ball   y pos      0.0 0.0 6.0\n",
      "ball   x velocity 0.0 0.0 -0.0\n",
      "ball   y velocity 0.0 0.0 0.0\n",
      "The reshaped state vector for the first agent looks like:\n",
      "racket x pos      0.0 0.0 -6.466985702514648\n",
      "racket y pos      0.0 0.0 -1.5\n",
      "racket x velocity 0.0 0.0 0.0\n",
      "racket y velocity 0.0 0.0 0.0\n",
      "ball   x pos      0.0 0.0 -6.83172082901001\n",
      "ball   y pos      0.0 0.0 6.0\n",
      "ball   x velocity 0.0 0.0 0.0\n",
      "ball   y velocity 0.0 0.0 0.0\n"
     ]
    }
   ],
   "source": [
    "state_vector_names = ['racket x pos     ', 'racket y pos     ', 'racket x velocity', 'racket y velocity',\n",
    "                      'ball   x pos     ', 'ball   y pos     ', 'ball   x velocity', 'ball   y velocity']\n",
    "\n",
    "print('The reshaped state vector for the first agent looks like:')\n",
    "state_stack0 = states[0].reshape(3, 8)\n",
    "_ = [print(state_vector_names[index], \n",
    "           state_stack0[0][index], \n",
    "           state_stack0[1][index], \n",
    "           state_stack0[2][index]) for index in range(8)]\n",
    "\n",
    "print('The reshaped state vector for the first agent looks like:')\n",
    "state_stack1 = states[1].reshape(3, 8)\n",
    "_ = [print(state_vector_names[index], \n",
    "           state_stack1[0][index], \n",
    "           state_stack1[1][index], \n",
    "           state_stack1[2][index]) for index in range(8)]\n"
   ]
  },
  {
   "cell_type": "code",
   "execution_count": 6,
   "metadata": {
    "collapsed": false
   },
   "outputs": [
    {
     "name": "stdout",
     "output_type": "stream",
     "text": [
      "[[-1.         -0.38651097]\n",
      " [-1.          0.37234143]]\n",
      "The reshaped state vector for the first agent looks like:\n",
      "racket x pos      0.0 -6.6527862548828125 -9.652788162231445\n",
      "racket y pos      0.0 -1.5 -1.5588600635528564\n",
      "racket x velocity 0.0 -0.0 -30.0\n",
      "racket y velocity 0.0 0.0 -0.9810000061988831\n",
      "ball   x pos      0.0 6.83172082901001 6.83172082901001\n",
      "ball   y pos      0.0 6.0 5.941140174865723\n",
      "ball   x velocity 0.0 -0.0 -30.0\n",
      "ball   y velocity 0.0 0.0 -0.9810000061988831\n",
      "The reshaped state vector for the second agent looks like:\n",
      "racket x pos      0.0 -6.6527862548828125 -9.652788162231445\n",
      "racket y pos      0.0 -1.5 -1.5588600635528564\n",
      "racket x velocity 0.0 -0.0 -30.0\n",
      "racket y velocity 0.0 0.0 -0.9810000061988831\n",
      "ball   x pos      0.0 6.83172082901001 6.83172082901001\n",
      "ball   y pos      0.0 6.0 5.941140174865723\n",
      "ball   x velocity 0.0 -0.0 -30.0\n",
      "ball   y velocity 0.0 0.0 -0.9810000061988831\n"
     ]
    }
   ],
   "source": [
    "actions = np.random.randn(num_agents, action_size) # select an action (for each agent)\n",
    "actions = np.clip(actions, -1, 1) # all actions between -1 and 1\n",
    "print(actions)\n",
    "env_info = env.step(actions)[brain_name]           # send all actions to tne environment\n",
    "next_states1 = env_info.vector_observations         # get next state (for each agent)\n",
    "#print(next_states1)\n",
    "print('The reshaped state vector for the first agent looks like:')\n",
    "state_stack0 = next_states1[0].reshape(3, 8)\n",
    "_ = [print(state_vector_names[index], \n",
    "           state_stack0[0][index], \n",
    "           state_stack0[1][index], \n",
    "           state_stack0[2][index]) for index in range(8)]\n",
    "print('The reshaped state vector for the second agent looks like:')\n",
    "state_stack1 = next_states1[0].reshape(3, 8)\n",
    "_ = [print(state_vector_names[index], \n",
    "           state_stack1[0][index], \n",
    "           state_stack1[1][index], \n",
    "           state_stack1[2][index]) for index in range(8)]"
   ]
  },
  {
   "cell_type": "markdown",
   "metadata": {},
   "source": [
    "### 3. Take Random Actions in the Environment\n",
    "\n",
    "In the next code cell, you will learn how to use the Python API to control the agent and receive feedback from the environment.\n",
    "\n",
    "Once this cell is executed, you will watch the agent's performance, if it selects an action at random with each time step.  A window should pop up that allows you to observe the agent, as it moves through the environment.  \n",
    "\n",
    "Of course, as part of the project, you'll have to change the code so that the agent is able to use its experience to gradually choose better actions when interacting with the environment!"
   ]
  },
  {
   "cell_type": "code",
   "execution_count": 7,
   "metadata": {
    "collapsed": false
   },
   "outputs": [
    {
     "name": "stdout",
     "output_type": "stream",
     "text": [
      "Score (max over agents) from episode 1: 0.0\n",
      "Score (max over agents) from episode 2: 0.0\n",
      "Score (max over agents) from episode 3: 0.0\n",
      "Score (max over agents) from episode 4: 0.0\n",
      "Score (max over agents) from episode 5: 0.0\n"
     ]
    }
   ],
   "source": [
    "for i in range(1, 6):                                      # play game for 5 episodes\n",
    "    env_info = env.reset(train_mode=False)[brain_name]     # reset the environment    \n",
    "    states = env_info.vector_observations                  # get the current state (for each agent)\n",
    "    scores = np.zeros(num_agents)                          # initialize the score (for each agent)\n",
    "    while True:\n",
    "        actions = np.random.randn(num_agents, action_size) # select an action (for each agent)\n",
    "        actions = np.clip(actions, -1, 1)                  # all actions between -1 and 1\n",
    "        env_info = env.step(actions)[brain_name]           # send all actions to tne environment\n",
    "        next_states = env_info.vector_observations         # get next state (for each agent)\n",
    "        rewards = env_info.rewards                         # get reward (for each agent)\n",
    "        dones = env_info.local_done                        # see if episode finished\n",
    "        scores += env_info.rewards                         # update the score (for each agent)\n",
    "        states = next_states                               # roll over states to next time step\n",
    "        if np.any(dones):                                  # exit loop if episode finished\n",
    "            break\n",
    "    print('Score (max over agents) from episode {}: {}'.format(i, np.max(scores)))"
   ]
  },
  {
   "cell_type": "markdown",
   "metadata": {},
   "source": [
    "### 4. It's Your Turn!\n",
    "\n",
    "Now it's your turn to train your own agent to solve the environment!  When training the environment, set `train_mode=True`, so that the line for resetting the environment looks like the following:\n",
    "```python\n",
    "env_info = env.reset(train_mode=True)[brain_name]\n",
    "```"
   ]
  },
  {
   "cell_type": "code",
   "execution_count": 8,
   "metadata": {
    "collapsed": true
   },
   "outputs": [],
   "source": [
    "# MADDPG function\n",
    "\n",
    "def maddpg(n_episodes=2000, max_t=1000, train_mode=True, goal_score = 0.5, consec_episodes = 100,print_every = 10,add_noise = True):\n",
    "    \"\"\"Multi-Agent Deep Deterministic Policy Gradient (MADDPG)\n",
    "    \n",
    "    Params\n",
    "    ======\n",
    "        n_episodes (int)      : maximum number of training episodes\n",
    "        max_t (int)           : maximum number of timesteps per episode\n",
    "        train_mode (bool)     : if 'True' set environment to training mode\n",
    "        goal_score (float)    : target score for a solution\n",
    "        consec_episodes (int) : number of episodes for the running sum\n",
    "        print_every (int)     : number of episodes for score printout\n",
    "        add_noise (bool)      : if 'True' then add noise with the action\n",
    "\n",
    "    \"\"\"\n",
    "    scores_window = deque(maxlen=consec_episodes)\n",
    "    scores_all = []\n",
    "    moving_average = []\n",
    "    best_score = -np.inf\n",
    "    best_episode = 0\n",
    "    already_solved = False    \n",
    "    print('Episodes \\tMax Reward\\tMin Reward\\tAvg Reward\\tMoving Average in last 100 episodes')\n",
    "    for i_episode in range(1, n_episodes+1):\n",
    "        env_info = env.reset(train_mode=train_mode)[brain_name]         # reset the environment\n",
    "        states = np.reshape(env_info.vector_observations, (1,48)) # get states and combine them\n",
    "        agent_0.reset()\n",
    "        agent_1.reset()\n",
    "        scores = np.zeros(num_agents)\n",
    "        for t in range(max_t):\n",
    "            actions = get_actions(states, add_noise)           # choose agent actions and combine them\n",
    "            env_info = env.step(actions)[brain_name]           # send both agents' actions together to the environment\n",
    "            next_states = np.reshape(env_info.vector_observations, (1, 48)) # combine the agent next states\n",
    "            rewards = env_info.rewards                         # get reward\n",
    "            done = env_info.local_done                         # see if episode finished\n",
    "            agent_0.step(states, actions, rewards[0], next_states, done, 0) # agent 1 learns\n",
    "            agent_1.step(states, actions, rewards[1], next_states, done, 1) # agent 2 learns\n",
    "            scores += np.max(rewards)                          # update the score for each agent\n",
    "            states = next_states                               # roll over states to next time step\n",
    "\n",
    "            if np.any(done):                                   # exit loop if episode finished\n",
    "                break\n",
    "\n",
    "        ep_best_score = np.max(scores)\n",
    "        scores_window.append(ep_best_score)\n",
    "        scores_all.append(ep_best_score)\n",
    "        moving_average.append(np.mean(scores_window))\n",
    "\n",
    "        # save best score                        \n",
    "        if ep_best_score > best_score:\n",
    "            best_score = ep_best_score\n",
    "            best_episode = i_episode\n",
    "        \n",
    "        # print results\n",
    "        if i_episode % print_every == 0:\n",
    "            print('{:0>4d}-{:0>4d}\\t{:.3f}\\t\\t{:.3f}\\t\\t{:.3f}\\t\\t{:.3f}'.format(\n",
    "                i_episode-print_every+1, i_episode, np.max(scores_all[-print_every:]),np.min(scores_all[-print_every:]),np.mean(scores_all[-print_every:]), float(0) if i_episode<100 else moving_average[-1]))\n",
    "\n",
    "        # determine if environment is solved and keep best performing models\n",
    "        #total_average_score = np.mean(scores_window)\n",
    "        if moving_average[-1] >= goal_score and i_episode >= 100:\n",
    "            if not already_solved:\n",
    "                print('<-- Environment solved in {:d} episodes! \\\n",
    "                \\n<-- Moving Average: {:.3f} over past {:d} episodes'.format(\n",
    "                    i_episode-consec_episodes, moving_average[-1], consec_episodes))\n",
    "                already_solved = True\n",
    "                # save weights\n",
    "                torch.save(agent_0.actor_local.state_dict(), 'checkpoint_actor_0.pth')\n",
    "                torch.save(agent_0.critic_local.state_dict(), 'checkpoint_critic_0.pth')\n",
    "                torch.save(agent_1.actor_local.state_dict(), 'checkpoint_actor_1.pth')\n",
    "                torch.save(agent_1.critic_local.state_dict(), 'checkpoint_critic_1.pth')\n",
    "            elif ep_best_score >= best_score:\n",
    "                print('<-- Best episode so far!\\\n",
    "                \\nEpisode {:0>4d}\\tMax Reward: {:.3f}\\tMoving Average: {:.3f}'.format(\n",
    "                i_episode, ep_best_score, moving_average[-1]))\n",
    "                # save weights\n",
    "                torch.save(agent_0.actor_local.state_dict(), 'checkpoint_actor_0b.pth')\n",
    "                torch.save(agent_0.critic_local.state_dict(), 'checkpoint_critic_0b.pth')\n",
    "                torch.save(agent_1.actor_local.state_dict(), 'checkpoint_actor_1b.pth')\n",
    "                torch.save(agent_1.critic_local.state_dict(), 'checkpoint_critic_1b.pth')\n",
    "            elif (i_episode-best_episode) >= 200:\n",
    "                # stop training if model stops converging\n",
    "                print('<-- Training stopped. Best score not matched or exceeded for 200 episodes')\n",
    "                break\n",
    "            else:\n",
    "                continue\n",
    "            \n",
    "    return scores_all, moving_average"
   ]
  },
  {
   "cell_type": "code",
   "execution_count": 9,
   "metadata": {
    "collapsed": true
   },
   "outputs": [],
   "source": [
    "def get_actions(states, add_noise):\n",
    "    '''gets actions for each agent and then combines them into one array'''\n",
    "    action_0 = agent_0.act(states, add_noise)    # agent 0 chooses an action\n",
    "    action_1 = agent_1.act(states, add_noise)    # agent 1 chooses an action\n",
    "    return np.concatenate((action_0, action_1), axis=0).flatten()"
   ]
  },
  {
   "cell_type": "code",
   "execution_count": 10,
   "metadata": {
    "collapsed": true
   },
   "outputs": [],
   "source": [
    "# initialize agents\n",
    "agent_0 = Agent(state_size, action_size, num_agents=1, random_seed=0)\n",
    "agent_1 = Agent(state_size, action_size, num_agents=1, random_seed=0)"
   ]
  },
  {
   "cell_type": "markdown",
   "metadata": {},
   "source": [
    "### Best Model"
   ]
  },
  {
   "cell_type": "code",
   "execution_count": 11,
   "metadata": {
    "collapsed": false
   },
   "outputs": [
    {
     "name": "stdout",
     "output_type": "stream",
     "text": [
      "Episodes \tMax Reward\tMin Reward\tAvg Reward\tMoving Average in last 100 episodes\n",
      "0001-0010\t0.000\t\t0.000\t\t0.000\t\t0.000\n",
      "0011-0020\t0.100\t\t0.000\t\t0.020\t\t0.000\n",
      "0021-0030\t0.100\t\t0.000\t\t0.010\t\t0.000\n",
      "0031-0040\t0.000\t\t0.000\t\t0.000\t\t0.000\n",
      "0041-0050\t0.000\t\t0.000\t\t0.000\t\t0.000\n",
      "0051-0060\t0.000\t\t0.000\t\t0.000\t\t0.000\n",
      "0061-0070\t0.000\t\t0.000\t\t0.000\t\t0.000\n",
      "0071-0080\t0.000\t\t0.000\t\t0.000\t\t0.000\n",
      "0081-0090\t0.000\t\t0.000\t\t0.000\t\t0.000\n",
      "0091-0100\t0.000\t\t0.000\t\t0.000\t\t0.003\n",
      "0101-0110\t0.000\t\t0.000\t\t0.000\t\t0.003\n",
      "0111-0120\t0.000\t\t0.000\t\t0.000\t\t0.001\n",
      "0121-0130\t0.000\t\t0.000\t\t0.000\t\t0.000\n",
      "0131-0140\t0.000\t\t0.000\t\t0.000\t\t0.000\n",
      "0141-0150\t0.100\t\t0.000\t\t0.030\t\t0.003\n",
      "0151-0160\t0.100\t\t0.000\t\t0.040\t\t0.007\n",
      "0161-0170\t0.100\t\t0.000\t\t0.010\t\t0.008\n",
      "0171-0180\t0.000\t\t0.000\t\t0.000\t\t0.008\n",
      "0181-0190\t0.100\t\t0.000\t\t0.010\t\t0.009\n",
      "0191-0200\t0.100\t\t0.000\t\t0.020\t\t0.011\n",
      "0201-0210\t0.100\t\t0.000\t\t0.010\t\t0.012\n",
      "0211-0220\t0.100\t\t0.000\t\t0.010\t\t0.013\n",
      "0221-0230\t0.100\t\t0.000\t\t0.010\t\t0.014\n",
      "0231-0240\t0.100\t\t0.000\t\t0.010\t\t0.015\n",
      "0241-0250\t0.100\t\t0.000\t\t0.010\t\t0.013\n",
      "0251-0260\t0.100\t\t0.000\t\t0.020\t\t0.011\n",
      "0261-0270\t0.100\t\t0.000\t\t0.010\t\t0.011\n",
      "0271-0280\t0.100\t\t0.000\t\t0.030\t\t0.014\n",
      "0281-0290\t0.100\t\t0.000\t\t0.030\t\t0.016\n",
      "0291-0300\t0.100\t\t0.000\t\t0.020\t\t0.016\n",
      "0301-0310\t0.200\t\t0.000\t\t0.030\t\t0.018\n",
      "0311-0320\t0.100\t\t0.000\t\t0.030\t\t0.020\n",
      "0321-0330\t0.100\t\t0.000\t\t0.030\t\t0.022\n",
      "0331-0340\t0.200\t\t0.000\t\t0.050\t\t0.026\n",
      "0341-0350\t0.100\t\t0.000\t\t0.030\t\t0.028\n",
      "0351-0360\t0.100\t\t0.000\t\t0.030\t\t0.029\n",
      "0361-0370\t0.100\t\t0.000\t\t0.030\t\t0.031\n",
      "0371-0380\t0.100\t\t0.000\t\t0.030\t\t0.031\n",
      "0381-0390\t0.100\t\t0.000\t\t0.020\t\t0.030\n",
      "0391-0400\t0.200\t\t0.000\t\t0.070\t\t0.035\n",
      "0401-0410\t0.100\t\t0.000\t\t0.060\t\t0.038\n",
      "0411-0420\t0.100\t\t0.000\t\t0.070\t\t0.042\n",
      "0421-0430\t0.200\t\t0.000\t\t0.080\t\t0.047\n",
      "0431-0440\t0.100\t\t0.000\t\t0.040\t\t0.046\n",
      "0441-0450\t0.500\t\t0.000\t\t0.120\t\t0.055\n",
      "0451-0460\t0.100\t\t0.000\t\t0.070\t\t0.059\n",
      "0461-0470\t0.400\t\t0.000\t\t0.080\t\t0.064\n",
      "0471-0480\t0.200\t\t0.000\t\t0.070\t\t0.068\n",
      "0481-0490\t0.300\t\t0.000\t\t0.110\t\t0.077\n",
      "0491-0500\t0.300\t\t0.000\t\t0.140\t\t0.084\n",
      "0501-0510\t0.200\t\t0.000\t\t0.100\t\t0.088\n",
      "0511-0520\t0.300\t\t0.000\t\t0.070\t\t0.088\n",
      "0521-0530\t0.100\t\t0.000\t\t0.030\t\t0.083\n",
      "0531-0540\t0.300\t\t0.000\t\t0.050\t\t0.084\n",
      "0541-0550\t0.300\t\t0.000\t\t0.090\t\t0.081\n",
      "0551-0560\t0.100\t\t0.000\t\t0.020\t\t0.076\n",
      "0561-0570\t0.200\t\t0.000\t\t0.030\t\t0.071\n",
      "0571-0580\t0.500\t\t0.000\t\t0.150\t\t0.079\n",
      "0581-0590\t0.300\t\t0.000\t\t0.160\t\t0.084\n",
      "0591-0600\t0.300\t\t0.000\t\t0.140\t\t0.084\n",
      "0601-0610\t0.300\t\t0.100\t\t0.160\t\t0.090\n",
      "0611-0620\t0.400\t\t0.000\t\t0.150\t\t0.098\n",
      "0621-0630\t0.200\t\t0.000\t\t0.070\t\t0.102\n",
      "0631-0640\t0.300\t\t0.000\t\t0.140\t\t0.111\n",
      "0641-0650\t0.300\t\t0.000\t\t0.120\t\t0.114\n",
      "0651-0660\t0.300\t\t0.100\t\t0.160\t\t0.128\n",
      "0661-0670\t0.200\t\t0.000\t\t0.070\t\t0.132\n",
      "0671-0680\t0.300\t\t0.000\t\t0.110\t\t0.128\n",
      "0681-0690\t0.300\t\t0.000\t\t0.120\t\t0.124\n",
      "0691-0700\t0.300\t\t0.000\t\t0.120\t\t0.122\n",
      "0701-0710\t0.300\t\t0.000\t\t0.110\t\t0.117\n",
      "0711-0720\t0.200\t\t0.100\t\t0.140\t\t0.116\n",
      "0721-0730\t0.200\t\t0.000\t\t0.100\t\t0.119\n",
      "0731-0740\t0.400\t\t0.000\t\t0.140\t\t0.119\n",
      "0741-0750\t0.200\t\t0.000\t\t0.070\t\t0.114\n",
      "0751-0760\t0.400\t\t0.000\t\t0.190\t\t0.117\n",
      "0761-0770\t0.300\t\t0.100\t\t0.150\t\t0.125\n",
      "0771-0780\t0.300\t\t0.100\t\t0.140\t\t0.128\n",
      "0781-0790\t0.300\t\t0.000\t\t0.080\t\t0.124\n",
      "0791-0800\t0.200\t\t0.000\t\t0.110\t\t0.123\n",
      "0801-0810\t0.200\t\t0.100\t\t0.120\t\t0.124\n",
      "0811-0820\t0.300\t\t0.100\t\t0.120\t\t0.122\n",
      "0821-0830\t0.300\t\t0.100\t\t0.130\t\t0.125\n",
      "0831-0840\t0.400\t\t0.100\t\t0.150\t\t0.126\n",
      "0841-0850\t0.300\t\t0.000\t\t0.130\t\t0.132\n",
      "0851-0860\t0.600\t\t0.000\t\t0.180\t\t0.131\n",
      "0861-0870\t0.300\t\t0.100\t\t0.130\t\t0.129\n",
      "0871-0880\t0.300\t\t0.000\t\t0.140\t\t0.129\n",
      "0881-0890\t0.300\t\t0.000\t\t0.160\t\t0.137\n",
      "0891-0900\t0.600\t\t0.000\t\t0.140\t\t0.140\n",
      "0901-0910\t0.100\t\t0.100\t\t0.100\t\t0.138\n",
      "0911-0920\t0.300\t\t0.100\t\t0.120\t\t0.138\n",
      "0921-0930\t0.100\t\t0.100\t\t0.100\t\t0.135\n",
      "0931-0940\t0.500\t\t0.100\t\t0.210\t\t0.141\n",
      "0941-0950\t0.200\t\t0.100\t\t0.110\t\t0.139\n",
      "0951-0960\t0.400\t\t0.000\t\t0.140\t\t0.135\n",
      "0961-0970\t0.500\t\t0.000\t\t0.159\t\t0.138\n",
      "0971-0980\t0.200\t\t0.100\t\t0.110\t\t0.135\n",
      "0981-0990\t0.500\t\t0.000\t\t0.170\t\t0.136\n",
      "0991-1000\t0.300\t\t0.100\t\t0.120\t\t0.134\n",
      "1001-1010\t0.100\t\t0.000\t\t0.090\t\t0.133\n",
      "1011-1020\t0.100\t\t0.100\t\t0.100\t\t0.131\n",
      "1021-1030\t0.200\t\t0.100\t\t0.110\t\t0.132\n",
      "1031-1040\t0.400\t\t0.100\t\t0.140\t\t0.125\n",
      "1041-1050\t0.200\t\t0.100\t\t0.140\t\t0.128\n",
      "1051-1060\t0.100\t\t0.100\t\t0.100\t\t0.124\n",
      "1061-1070\t0.200\t\t0.100\t\t0.130\t\t0.121\n",
      "1071-1080\t0.400\t\t0.100\t\t0.150\t\t0.125\n",
      "1081-1090\t0.200\t\t0.100\t\t0.120\t\t0.120\n",
      "1091-1100\t0.300\t\t0.100\t\t0.130\t\t0.121\n",
      "1101-1110\t0.300\t\t0.100\t\t0.150\t\t0.127\n",
      "1111-1120\t0.200\t\t0.100\t\t0.120\t\t0.129\n",
      "1121-1130\t0.300\t\t0.100\t\t0.120\t\t0.130\n",
      "1131-1140\t0.900\t\t0.100\t\t0.260\t\t0.142\n",
      "1141-1150\t0.500\t\t0.100\t\t0.180\t\t0.146\n",
      "1151-1160\t0.400\t\t0.100\t\t0.190\t\t0.155\n",
      "1161-1170\t0.400\t\t0.100\t\t0.200\t\t0.162\n",
      "1171-1180\t0.200\t\t0.000\t\t0.110\t\t0.158\n",
      "1181-1190\t0.500\t\t0.100\t\t0.220\t\t0.168\n",
      "1191-1200\t0.600\t\t0.100\t\t0.210\t\t0.176\n",
      "1201-1210\t0.400\t\t0.100\t\t0.210\t\t0.182\n",
      "1211-1220\t1.100\t\t0.100\t\t0.320\t\t0.202\n",
      "1221-1230\t1.000\t\t0.100\t\t0.370\t\t0.227\n",
      "1231-1240\t1.000\t\t0.200\t\t0.330\t\t0.234\n",
      "1241-1250\t1.000\t\t0.100\t\t0.450\t\t0.261\n",
      "1251-1260\t1.400\t\t0.100\t\t0.480\t\t0.290\n",
      "1261-1270\t0.500\t\t0.000\t\t0.220\t\t0.292\n",
      "1271-1280\t1.200\t\t0.100\t\t0.410\t\t0.322\n",
      "1281-1290\t0.600\t\t0.100\t\t0.240\t\t0.324\n",
      "1291-1300\t1.500\t\t0.100\t\t0.440\t\t0.347\n",
      "1301-1310\t1.200\t\t0.100\t\t0.400\t\t0.366\n",
      "1311-1320\t0.700\t\t0.000\t\t0.250\t\t0.359\n",
      "1321-1330\t0.500\t\t0.100\t\t0.270\t\t0.349\n",
      "1331-1340\t1.800\t\t0.100\t\t0.590\t\t0.375\n",
      "1341-1350\t1.500\t\t0.100\t\t0.440\t\t0.374\n",
      "1351-1360\t0.500\t\t0.000\t\t0.230\t\t0.349\n",
      "1361-1370\t0.800\t\t0.100\t\t0.290\t\t0.356\n",
      "1371-1380\t0.700\t\t0.100\t\t0.260\t\t0.341\n",
      "1381-1390\t0.700\t\t0.100\t\t0.350\t\t0.352\n",
      "1391-1400\t1.400\t\t0.100\t\t0.590\t\t0.367\n",
      "1401-1410\t1.200\t\t0.000\t\t0.490\t\t0.376\n",
      "1411-1420\t1.300\t\t0.200\t\t0.700\t\t0.421\n",
      "1421-1430\t3.000\t\t0.000\t\t0.800\t\t0.474\n",
      "1431-1440\t1.600\t\t0.000\t\t0.450\t\t0.460\n",
      "1441-1450\t1.500\t\t0.200\t\t0.610\t\t0.477\n",
      "<-- Environment solved in 1356 episodes!                 \n",
      "<-- Moving Average: 0.500 over past 100 episodes\n",
      "1451-1460\t2.600\t\t0.000\t\t0.830\t\t0.537\n",
      "1461-1470\t1.500\t\t0.000\t\t0.610\t\t0.569\n",
      "1471-1480\t1.900\t\t0.000\t\t0.390\t\t0.582\n",
      "1481-1490\t1.100\t\t0.200\t\t0.510\t\t0.598\n",
      "1491-1500\t0.500\t\t0.000\t\t0.210\t\t0.560\n",
      "1501-1510\t1.300\t\t0.000\t\t0.400\t\t0.551\n",
      "<-- Best episode so far!                \n",
      "Episode 1514\tMax Reward: 3.800\tMoving Average: 0.563\n",
      "1511-1520\t3.800\t\t0.000\t\t0.910\t\t0.572\n",
      "1521-1530\t3.100\t\t0.100\t\t1.050\t\t0.597\n",
      "1531-1540\t3.300\t\t0.000\t\t0.700\t\t0.622\n",
      "1541-1550\t2.700\t\t0.100\t\t0.800\t\t0.641\n",
      "<-- Best episode so far!                \n",
      "Episode 1552\tMax Reward: 5.200\tMoving Average: 0.706\n",
      "1551-1560\t5.200\t\t0.000\t\t1.220\t\t0.680\n",
      "1561-1570\t1.300\t\t0.100\t\t0.350\t\t0.654\n",
      "<-- Best episode so far!                \n",
      "Episode 1576\tMax Reward: 5.200\tMoving Average: 0.716\n",
      "<-- Best episode so far!                \n",
      "Episode 1577\tMax Reward: 5.200\tMoving Average: 0.768\n",
      "1571-1580\t5.200\t\t0.100\t\t1.770\t\t0.792\n",
      "<-- Best episode so far!                \n",
      "Episode 1588\tMax Reward: 5.200\tMoving Average: 0.852\n",
      "1581-1590\t5.200\t\t0.000\t\t1.220\t\t0.863\n",
      "1591-1600\t1.400\t\t0.100\t\t0.600\t\t0.902\n",
      "1601-1610\t2.700\t\t0.100\t\t0.970\t\t0.959\n",
      "1611-1620\t1.900\t\t0.100\t\t0.550\t\t0.923\n",
      "1621-1630\t4.400\t\t0.000\t\t0.860\t\t0.904\n",
      "1631-1640\t5.200\t\t0.000\t\t1.440\t\t0.978\n",
      "<-- Best episode so far!                \n",
      "Episode 1640\tMax Reward: 5.200\tMoving Average: 0.978\n",
      "<-- Best episode so far!                \n",
      "Episode 1643\tMax Reward: 5.200\tMoving Average: 1.020\n",
      "<-- Best episode so far!                \n",
      "Episode 1644\tMax Reward: 5.200\tMoving Average: 1.069\n",
      "<-- Best episode so far!                \n",
      "Episode 1647\tMax Reward: 5.200\tMoving Average: 1.084\n",
      "1641-1650\t5.200\t\t0.100\t\t2.490\t\t1.147\n",
      "<-- Best episode so far!                \n",
      "Episode 1657\tMax Reward: 5.200\tMoving Average: 1.148\n",
      "1651-1660\t5.200\t\t0.100\t\t1.230\t\t1.148\n",
      "<-- Best episode so far!                \n",
      "Episode 1662\tMax Reward: 5.200\tMoving Average: 1.199\n",
      "<-- Best episode so far!                \n",
      "Episode 1663\tMax Reward: 5.200\tMoving Average: 1.238\n",
      "<-- Best episode so far!                \n",
      "Episode 1664\tMax Reward: 5.300\tMoving Average: 1.288\n",
      "1661-1670\t5.300\t\t0.100\t\t2.260\t\t1.339\n",
      "1671-1680\t5.200\t\t0.000\t\t0.800\t\t1.242\n",
      "<-- Best episode so far!                \n",
      "Episode 1683\tMax Reward: 5.300\tMoving Average: 1.372\n",
      "1681-1690\t5.300\t\t0.000\t\t2.120\t\t1.332\n",
      "1691-1700\t0.600\t\t0.000\t\t0.160\t\t1.288\n",
      "1701-1710\t5.200\t\t0.000\t\t1.560\t\t1.347\n",
      "1711-1720\t5.200\t\t0.000\t\t1.810\t\t1.473\n",
      "1721-1730\t5.200\t\t0.100\t\t2.220\t\t1.609\n",
      "1731-1740\t5.200\t\t0.100\t\t2.180\t\t1.683\n",
      "1741-1750\t5.200\t\t0.100\t\t1.660\t\t1.600\n",
      "1751-1760\t4.200\t\t0.000\t\t0.780\t\t1.555\n",
      "1761-1770\t1.500\t\t0.000\t\t0.350\t\t1.364\n",
      "1771-1780\t5.100\t\t0.100\t\t1.100\t\t1.394\n",
      "1781-1790\t4.000\t\t0.100\t\t1.210\t\t1.303\n",
      "1791-1800\t1.300\t\t0.100\t\t0.280\t\t1.315\n",
      "1801-1810\t4.300\t\t0.000\t\t1.480\t\t1.307\n",
      "1811-1820\t3.300\t\t0.000\t\t0.850\t\t1.211\n",
      "1821-1830\t2.700\t\t0.000\t\t0.480\t\t1.037\n",
      "1831-1840\t0.500\t\t0.000\t\t0.120\t\t0.831\n",
      "1841-1850\t3.700\t\t0.100\t\t1.410\t\t0.806\n",
      "1851-1860\t1.500\t\t0.100\t\t0.360\t\t0.764\n",
      "<-- Training stopped. Best score not matched or exceeded for 200 episodes\n"
     ]
    }
   ],
   "source": [
    "# run the training loop\n",
    "\n",
    "# BUFFER_SIZE = int(1e6)  # replay buffer size\n",
    "# BATCH_SIZE = 128        # minibatch size\n",
    "# LR_ACTOR = 1e-3         # learning rate of the actor\n",
    "# LR_CRITIC = 1e-3        # learning rate of the critic\n",
    "# WEIGHT_DECAY = 0        # L2 weight decay\n",
    "# LEARN_EVERY = 1         # learning timestep interval\n",
    "# LEARN_NUM = 1           # number of learning passes\n",
    "# GAMMA = 0.99            # discount factor\n",
    "# TAU = 7e-2              # for soft update of target parameters\n",
    "# OU_SIGMA = 0.2          # Ornstein-Uhlenbeck noise parameter, volatility\n",
    "# OU_THETA = 0.12         # Ornstein-Uhlenbeck noise parameter, speed of mean reversion\n",
    "# EPS_START = 5.5         # initial value for epsilon in noise decay process in Agent.act()\n",
    "# EPS_EP_END = 250        # episode to end the noise decay process\n",
    "# EPS_FINAL = 0           # final value for epsilon after decay\n",
    "\n",
    "scores, avgs = maddpg()"
   ]
  },
  {
   "cell_type": "code",
   "execution_count": 12,
   "metadata": {
    "collapsed": false
   },
   "outputs": [
    {
     "data": {
      "image/png": "[encoded data removed]",
      "text/plain": [
       "<Figure size 432x288 with 1 Axes>"
      ]
     },
     "metadata": {
      "needs_background": "light"
     },
     "output_type": "display_data"
    }
   ],
   "source": [
    "# plot the scores\n",
    "fig = plt.figure()\n",
    "ax = fig.add_subplot(111)\n",
    "plt.plot(np.arange(len(scores)), scores, label='MADDPG')\n",
    "plt.plot(np.arange(len(scores)), avgs, c='r', label='moving avg')\n",
    "plt.ylabel('Score')\n",
    "plt.xlabel('Episode #')\n",
    "plt.legend(loc='upper left');\n",
    "plt.show()"
   ]
  },
  {
   "cell_type": "markdown",
   "metadata": {},
   "source": [
    "---\n",
    "### 5. Test a saved agent"
   ]
  },
  {
   "cell_type": "code",
   "execution_count": 14,
   "metadata": {
    "collapsed": true
   },
   "outputs": [],
   "source": [
    "## reinitialize the agents (if needed)\n",
    "agent_0 = Agent(state_size, action_size, num_agents=1, random_seed=0)\n",
    "agent_1 = Agent(state_size, action_size, num_agents=1, random_seed=0)\n",
    "\n",
    "# load the weights from file\n",
    "agent_0_weights = 'checkpoint_actor_0b.pth'\n",
    "agent_1_weights = 'checkpoint_actor_1b.pth'\n",
    "agent_0.actor_local.load_state_dict(torch.load(agent_0_weights))\n",
    "agent_1.actor_local.load_state_dict(torch.load(agent_1_weights))     "
   ]
  },
  {
   "cell_type": "code",
   "execution_count": 15,
   "metadata": {
    "collapsed": true
   },
   "outputs": [],
   "source": [
    "def test(n_episodes=10, max_t=1000, train_mode=False,consec_episodes = 10,print_every = 1,add_noise = False):\n",
    "\n",
    "    scores_window = deque(maxlen=consec_episodes)\n",
    "    scores_all = []\n",
    "    moving_average = []  \n",
    "\n",
    "    for i_episode in range(1, n_episodes+1):\n",
    "        env_info = env.reset(train_mode=train_mode)[brain_name]         # reset the environment\n",
    "        states = np.reshape(env_info.vector_observations, (1,48)) # get states and combine them\n",
    "        scores = np.zeros(num_agents)\n",
    "        while True:\n",
    "            actions = get_actions(states, add_noise)           # choose agent actions and combine them\n",
    "            env_info = env.step(actions)[brain_name]           # send both agents' actions together to the environment\n",
    "            next_states = np.reshape(env_info.vector_observations, (1, 48)) # combine the agent next states\n",
    "            rewards = env_info.rewards                         # get reward\n",
    "            done = env_info.local_done                         # see if episode finished\n",
    "            scores += np.max(rewards)                          # update the score for each agent\n",
    "            states = next_states                               # roll over states to next time step\n",
    "            if np.any(done):                                   # exit loop if episode finished\n",
    "                break\n",
    "\n",
    "        ep_best_score = np.max(scores)\n",
    "        scores_window.append(ep_best_score)\n",
    "        scores_all.append(ep_best_score)\n",
    "        moving_average.append(np.mean(scores_window))\n",
    "\n",
    "        # print results\n",
    "        if i_episode % print_every == 0:\n",
    "            print('Episodes {:0>4d}-{:0>4d}\\tMax Reward: {:.3f}\\tMoving Average: {:.3f}'.format(\n",
    "                i_episode-print_every, i_episode, np.max(scores_all[-print_every:]), moving_average[-1]))\n",
    "            \n",
    "    return scores_all, moving_average            "
   ]
  },
  {
   "cell_type": "code",
   "execution_count": null,
   "metadata": {
    "collapsed": false
   },
   "outputs": [],
   "source": [
    "scores, avgs = test()"
   ]
  },
  {
   "cell_type": "code",
   "execution_count": null,
   "metadata": {
    "collapsed": true
   },
   "outputs": [],
   "source": [
    "# plot the scores\n",
    "fig = plt.figure()\n",
    "ax = fig.add_subplot(111)\n",
    "plt.plot(np.arange(len(scores)), scores, label='MADDPG')\n",
    "plt.plot(np.arange(len(scores)), avgs, c='r', label='moving avg')\n",
    "plt.ylabel('Score')\n",
    "plt.xlabel('Episode #')\n",
    "plt.legend(loc='upper left');\n",
    "plt.show()"
   ]
  },
  {
   "cell_type": "markdown",
   "metadata": {},
   "source": [
    "When finished, you can close the environment."
   ]
  },
  {
   "cell_type": "code",
   "execution_count": null,
   "metadata": {
    "collapsed": true
   },
   "outputs": [],
   "source": [
    "env.close()"
   ]
  }
 ],
 "metadata": {
  "anaconda-cloud": {},
  "kernelspec": {
   "display_name": "drlnd",
   "language": "python",
   "name": "drlnd"
  },
  "language_info": {
   "codemirror_mode": {
    "name": "ipython",
    "version": 3
   },
   "file_extension": ".py",
   "mimetype": "text/x-python",
   "name": "python",
   "nbconvert_exporter": "python",
   "pygments_lexer": "ipython3",
   "version": "3.6.2"
  }
 },
 "nbformat": 4,
 "nbformat_minor": 2
}
